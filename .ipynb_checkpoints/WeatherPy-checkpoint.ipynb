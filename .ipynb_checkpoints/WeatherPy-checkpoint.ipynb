{
 "cells": [
  {
   "cell_type": "markdown",
   "metadata": {},
   "source": [
    "# WeatherPy\n",
    "----\n",
    "\n",
    "#### Four Observable Trends\n",
    "* The closer the equator, the higher the temperature.\n",
    "* Humidity and latitude showed low correlation.\n",
    "* Cloudiness and latitude showed low correlation.\n",
    "* Wind speed and latitude showed the lowest correlation. "
   ]
  },
  {
   "cell_type": "code",
   "execution_count": 1,
   "metadata": {
    "scrolled": true
   },
   "outputs": [],
   "source": [
    "# Dependencies and Setup\n",
    "import matplotlib.pyplot as plt\n",
    "import pandas as pd\n",
    "import numpy as np\n",
    "import requests\n",
    "import time\n",
    "import json\n",
    "import scipy.stats as st\n",
    "from scipy.stats import linregress\n",
    "from pprint import pprint\n",
    "\n",
    "# Import API key\n",
    "from api_keys import weather_api_key\n",
    "\n",
    "# Incorporated citipy to determine city based on latitude and longitude\n",
    "from citipy import citipy\n",
    "\n",
    "# Output File (CSV)\n",
    "output_data_file = \"output_data/cities.csv\"\n",
    "\n",
    "# Range of latitudes and longitudes\n",
    "lat_range = (-90, 90)\n",
    "lng_range = (-180, 180)"
   ]
  },
  {
   "cell_type": "markdown",
   "metadata": {},
   "source": [
    "## Generate Cities List"
   ]
  },
  {
   "cell_type": "code",
   "execution_count": 2,
   "metadata": {},
   "outputs": [
    {
     "data": {
      "text/plain": [
       "600"
      ]
     },
     "execution_count": 2,
     "metadata": {},
     "output_type": "execute_result"
    }
   ],
   "source": [
    "# List for holding lat_lngs and cities\n",
    "lat_lngs = []\n",
    "cities = []\n",
    "\n",
    "# Create a set of random lat and lng combinations\n",
    "lats = np.random.uniform(lat_range[0], lat_range[1], size=1500)\n",
    "lngs = np.random.uniform(lng_range[0], lng_range[1], size=1500)\n",
    "lat_lngs = zip(lats, lngs)\n",
    "\n",
    "# Identify nearest city for each lat, lng combination\n",
    "for lat_lng in lat_lngs:\n",
    "    city = citipy.nearest_city(lat_lng[0], lat_lng[1]).city_name\n",
    "    \n",
    "    # If the city is unique, then add it to a our cities list\n",
    "    if city not in cities:\n",
    "        cities.append(city)\n",
    "\n",
    "# Print the city count to confirm sufficient count\n",
    "len(cities)\n",
    "\n"
   ]
  },
  {
   "cell_type": "code",
   "execution_count": 3,
   "metadata": {},
   "outputs": [
    {
     "data": {
      "text/html": [
       "<div>\n",
       "<style scoped>\n",
       "    .dataframe tbody tr th:only-of-type {\n",
       "        vertical-align: middle;\n",
       "    }\n",
       "\n",
       "    .dataframe tbody tr th {\n",
       "        vertical-align: top;\n",
       "    }\n",
       "\n",
       "    .dataframe thead th {\n",
       "        text-align: right;\n",
       "    }\n",
       "</style>\n",
       "<table border=\"1\" class=\"dataframe\">\n",
       "  <thead>\n",
       "    <tr style=\"text-align: right;\">\n",
       "      <th></th>\n",
       "      <th>City</th>\n",
       "      <th>Lat</th>\n",
       "      <th>Lng</th>\n",
       "      <th>Max Temp</th>\n",
       "      <th>Humidity</th>\n",
       "      <th>Cloudiness</th>\n",
       "      <th>Wind Speed</th>\n",
       "      <th>Country</th>\n",
       "      <th>Date</th>\n",
       "    </tr>\n",
       "  </thead>\n",
       "  <tbody>\n",
       "  </tbody>\n",
       "</table>\n",
       "</div>"
      ],
      "text/plain": [
       "Empty DataFrame\n",
       "Columns: [City, Lat, Lng, Max Temp, Humidity, Cloudiness, Wind Speed, Country, Date]\n",
       "Index: []"
      ]
     },
     "execution_count": 3,
     "metadata": {},
     "output_type": "execute_result"
    }
   ],
   "source": [
    "weather_summary_df = pd.DataFrame(columns=[\"City\",'Lat','Lng','Max Temp','Humidity','Cloudiness','Wind Speed','Country','Date'])\n",
    "weather_summary_df.head()"
   ]
  },
  {
   "cell_type": "markdown",
   "metadata": {},
   "source": [
    "### Perform API Calls\n",
    "* Perform a weather check on each city using a series of successive API calls.\n",
    "* Include a print log of each city as it'sbeing processed (with the city number and city name).\n"
   ]
  },
  {
   "cell_type": "code",
   "execution_count": 4,
   "metadata": {},
   "outputs": [
    {
     "name": "stdout",
     "output_type": "stream",
     "text": [
      "Beginning Data Retrieval\n",
      "-------------------------\n",
      "Processing Record 1 |Upernavik\n",
      "Processing Record 2 |Mahébourg\n",
      "Processing Record 3 |Saint Paul Harbor\n",
      "Processing Record 4 |Saint-Augustin\n",
      "Processing Record 5 |Dustlik\n",
      "City not found. Skipping...\n",
      "Processing Record 6 |Ushuaia\n",
      "Processing Record 7 |Greenville\n",
      "Processing Record 8 |Bengkulu\n",
      "Processing Record 9 |Colac\n",
      "Processing Record 10 |Kirakira\n",
      "Processing Record 11 |Raja\n",
      "Processing Record 12 |Lebu\n",
      "Processing Record 13 |Ullapool\n",
      "Processing Record 14 |Cabo San Lucas\n",
      "Processing Record 15 |Kasongo\n",
      "Processing Record 16 |Yenagoa\n",
      "Processing Record 17 |Rikitea\n",
      "Processing Record 18 |Pevek\n",
      "Processing Record 19 |Cape Town\n",
      "Processing Record 20 |Chokurdakh\n",
      "Processing Record 21 |Nanortalik\n",
      "Processing Record 22 |Kavieng\n",
      "Processing Record 23 |Aklavik\n",
      "Processing Record 24 |Arica\n",
      "Processing Record 25 |Ambatofinandrahana\n",
      "Processing Record 26 |Kenai\n",
      "Processing Record 27 |Tiksi\n",
      "City not found. Skipping...\n",
      "Processing Record 28 |Butaritari\n",
      "Processing Record 29 |Voh\n",
      "Processing Record 30 |Banda Aceh\n",
      "City not found. Skipping...\n",
      "Processing Record 31 |Lompoc\n",
      "Processing Record 32 |Albany\n",
      "Processing Record 33 |Busselton\n",
      "Processing Record 34 |Port-Gentil\n",
      "City not found. Skipping...\n",
      "Processing Record 35 |Kapaa\n",
      "Processing Record 36 |Richards Bay\n",
      "Processing Record 37 |San Jose\n",
      "Processing Record 38 |Mataura\n",
      "Processing Record 39 |Chumikan\n",
      "Processing Record 40 |Batagay-Alyta\n",
      "Processing Record 41 |Talnakh\n",
      "Processing Record 42 |George Town\n",
      "Processing Record 43 |Kaeo\n",
      "Processing Record 44 |Sitka\n",
      "Processing Record 45 |Safford\n",
      "Processing Record 46 |Fortuna\n",
      "Processing Record 47 |Atuona\n",
      "Processing Record 48 |Kasulu\n",
      "Processing Record 49 |Iracoubo\n",
      "Processing Record 50 |Birjand\n",
      "Processing Record 51 |Vaini\n",
      "City not found. Skipping...\n",
      "Processing Record 52 |Haines Junction\n",
      "Processing Record 53 |San Rafael\n",
      "Processing Record 54 |Port Elizabeth\n",
      "Processing Record 55 |Alugan\n",
      "Processing Record 56 |Petropavlovsk-Kamchatskiy\n",
      "Processing Record 57 |Province of Palermo\n",
      "Processing Record 58 |Kavaratti\n",
      "Processing Record 59 |Coquimbo\n",
      "Processing Record 60 |Pendleton\n",
      "Processing Record 61 |Kasama\n",
      "Processing Record 62 |Severo-Kuril'sk\n",
      "Processing Record 63 |Punta Arenas\n",
      "Processing Record 64 |Nyurba\n",
      "Processing Record 65 |Le Port\n",
      "Processing Record 66 |São Filipe\n",
      "Processing Record 67 |Caravelas\n",
      "Processing Record 68 |Itoman\n",
      "Processing Record 69 |Husavik\n",
      "Processing Record 70 |São João da Barra\n",
      "Processing Record 71 |Maxixe\n",
      "Processing Record 72 |Dingle\n",
      "Processing Record 73 |Taoudenni\n",
      "Processing Record 74 |Esna\n",
      "Processing Record 75 |Songwa\n",
      "Processing Record 76 |Novobiryusinskiy\n",
      "Processing Record 77 |Souillac\n",
      "Processing Record 78 |Bredasdorp\n",
      "Processing Record 79 |Tuktoyaktuk\n",
      "Processing Record 80 |Port Hardy\n",
      "Processing Record 81 |Ixtapa\n",
      "Processing Record 82 |Chalchihuites\n",
      "Processing Record 83 |Cidreira\n",
      "City not found. Skipping...\n",
      "Processing Record 84 |Sørland\n",
      "Processing Record 85 |Valparaíso\n",
      "Processing Record 86 |Longyearbyen\n",
      "Processing Record 87 |Rawson\n",
      "Processing Record 88 |San Policarpo\n",
      "Processing Record 89 |Provideniya\n",
      "City not found. Skipping...\n",
      "Processing Record 90 |Yārāda\n",
      "Processing Record 91 |Estevan\n",
      "Processing Record 92 |Tegul'det\n",
      "Processing Record 93 |Avarua\n",
      "Processing Record 94 |Vero Beach\n",
      "Processing Record 95 |Shādegān\n",
      "Processing Record 96 |Pisco\n",
      "Processing Record 97 |Baruun-Urt\n",
      "Processing Record 98 |Nikolskoye\n",
      "Processing Record 99 |Épernay\n",
      "Processing Record 100 |Ponta do Sol\n",
      "Processing Record 101 |Punta Cardon\n",
      "Processing Record 102 |Morondava\n",
      "Processing Record 103 |Kiama\n",
      "Processing Record 104 |Port Macquarie\n",
      "Processing Record 105 |Rodolfo Sánchez Taboada\n",
      "Processing Record 106 |Qingquan\n",
      "Processing Record 107 |Barrow\n",
      "Processing Record 108 |Morden\n",
      "Processing Record 109 |Ballina\n",
      "Processing Record 110 |New Norfolk\n",
      "Processing Record 111 |Jamestown\n",
      "Processing Record 112 |Wilmington\n",
      "Processing Record 113 |Mitchell\n",
      "Processing Record 114 |Rosetta\n",
      "Processing Record 115 |Omaruru\n",
      "Processing Record 116 |Kungurtug\n",
      "Processing Record 117 |Puerto Ayora\n",
      "Processing Record 118 |Saskylakh\n",
      "Processing Record 119 |Lüderitz\n",
      "Processing Record 120 |Hilo\n",
      "Processing Record 121 |Channel-Port aux Basques\n",
      "Processing Record 122 |Gimli\n",
      "Processing Record 123 |Tuatapere\n",
      "Processing Record 124 |Kiryat Gat\n",
      "Processing Record 125 |Saint-Philippe\n",
      "Processing Record 126 |Klaksvík\n",
      "Processing Record 127 |Saint-Joseph\n",
      "Processing Record 128 |Pervoye Maya\n",
      "Processing Record 129 |Thompson\n",
      "Processing Record 130 |Nizwá\n",
      "Processing Record 131 |Jérémie\n",
      "Processing Record 132 |Cassilândia\n",
      "Processing Record 133 |Suez\n",
      "Processing Record 134 |Kaitangata\n",
      "Processing Record 135 |Narsaq\n",
      "Processing Record 136 |Hasaki\n",
      "Processing Record 137 |Prome\n",
      "Processing Record 138 |Dikson\n",
      "Processing Record 139 |Cairo\n",
      "Processing Record 140 |Hamilton\n",
      "City not found. Skipping...\n",
      "Processing Record 141 |Bluff\n",
      "Processing Record 142 |Port Alfred\n",
      "Processing Record 143 |Portree\n",
      "Processing Record 144 |Broome\n",
      "Processing Record 145 |Broken Hill\n",
      "Processing Record 146 |Esperance\n",
      "Processing Record 147 |Eureka\n",
      "Processing Record 148 |Shelburne\n",
      "Processing Record 149 |Hirara\n",
      "Processing Record 150 |Görele\n",
      "Processing Record 151 |Askarovo\n",
      "Processing Record 152 |Zhangjiakou Shi Xuanhua Qu\n",
      "Processing Record 153 |Berlevåg\n",
      "Processing Record 154 |Noumea\n",
      "Processing Record 155 |Mount Isa\n",
      "Processing Record 156 |Hermanus\n",
      "Processing Record 157 |East London\n",
      "City not found. Skipping...\n",
      "Processing Record 158 |Manuk Mangkaw\n",
      "Processing Record 159 |Bambous Virieux\n",
      "Processing Record 160 |Lakatoro\n",
      "Processing Record 161 |Mossamedes\n",
      "Processing Record 162 |Ribeira Grande\n",
      "Processing Record 163 |Khatanga\n",
      "Processing Record 164 |Mokolo\n",
      "Processing Record 165 |Esim\n",
      "Processing Record 166 |Coahuayana Viejo\n",
      "Processing Record 167 |Lac du Bonnet\n",
      "Processing Record 168 |Tasiilaq\n",
      "Processing Record 169 |Padang\n",
      "Processing Record 170 |Palauig\n",
      "Processing Record 171 |Sal Rei\n",
      "Processing Record 172 |Ondjiva\n",
      "City not found. Skipping...\n",
      "Processing Record 173 |Abu Samrah\n",
      "Processing Record 174 |Ushibukamachi\n",
      "Processing Record 175 |Arlit\n",
      "Processing Record 176 |Salalah\n",
      "Processing Record 177 |Shurugwi\n",
      "Processing Record 178 |San Juan\n",
      "Processing Record 179 |High Prairie\n",
      "Processing Record 180 |Kyren\n",
      "Processing Record 181 |Vila Velha\n",
      "Processing Record 182 |Krasnosel'kup\n",
      "Processing Record 183 |Whitehorse\n",
      "Processing Record 184 |Erzin\n",
      "Processing Record 185 |Texarkana\n",
      "Processing Record 186 |Mar del Plata\n",
      "Processing Record 187 |Sijunjung\n",
      "Processing Record 188 |Rio Claro\n",
      "Processing Record 189 |Prince Rupert\n",
      "Processing Record 190 |Nyaunglebin\n",
      "Processing Record 191 |Jiazi\n",
      "Processing Record 192 |Ishigaki\n",
      "Processing Record 193 |Roseburg\n",
      "Processing Record 194 |Nago\n",
      "City not found. Skipping...\n",
      "Processing Record 195 |Hithadhoo\n",
      "Processing Record 196 |Capão da Canoa\n",
      "Processing Record 197 |Juneau\n",
      "Processing Record 198 |Bisira\n",
      "Processing Record 199 |Nelson Bay\n",
      "Processing Record 200 |Kuito\n",
      "Processing Record 201 |Kendari\n",
      "Processing Record 202 |Soyo\n",
      "Processing Record 203 |Arraial do Cabo\n",
      "Processing Record 204 |Saint-Pierre\n",
      "Processing Record 205 |Ilulissat\n",
      "Processing Record 206 |Zaplavnoye\n",
      "Processing Record 207 |Ambilobe\n",
      "Processing Record 208 |Hohhot\n",
      "Processing Record 209 |San Quintín\n",
      "Processing Record 210 |Ise\n",
      "Processing Record 211 |Bethel\n",
      "Processing Record 212 |Korla\n",
      "Processing Record 213 |Khonsa\n",
      "Processing Record 214 |Bumba\n",
      "Processing Record 215 |Qaanaaq\n",
      "City not found. Skipping...\n",
      "Processing Record 216 |Kualakapuas\n",
      "Processing Record 217 |Faanui\n",
      "Processing Record 218 |Makokou\n",
      "Processing Record 219 |Okoneshnikovo\n",
      "Processing Record 220 |The Pas\n",
      "Processing Record 221 |Hambantota\n",
      "Processing Record 222 |Novonikolsk\n",
      "City not found. Skipping...\n",
      "Processing Record 223 |Tiarei\n",
      "Processing Record 224 |Guerrero Negro\n",
      "Processing Record 225 |Tarquinia\n",
      "Processing Record 226 |Kumul\n",
      "Processing Record 227 |Moche\n",
      "Processing Record 228 |San Patricio\n",
      "Processing Record 229 |Hurghada\n",
      "Processing Record 230 |Betioky\n",
      "Processing Record 231 |Hobart\n",
      "Processing Record 232 |Wahpeton\n",
      "Processing Record 233 |Toowoomba\n",
      "Processing Record 234 |Lavrentiya\n",
      "Processing Record 235 |Yellowknife\n",
      "Processing Record 236 |Kamenka\n",
      "City not found. Skipping...\n",
      "Processing Record 237 |College\n",
      "Processing Record 238 |Afytos\n",
      "Processing Record 239 |Terra Santa\n",
      "Processing Record 240 |Bobrovka\n",
      "Processing Record 241 |Chingirlau\n"
     ]
    },
    {
     "name": "stdout",
     "output_type": "stream",
     "text": [
      "Processing Record 242 |St. George's\n",
      "Processing Record 243 |Grand Gaube\n",
      "Processing Record 244 |Bonavista\n",
      "Processing Record 245 |Brandenburg\n",
      "Processing Record 246 |Margate\n",
      "Processing Record 247 |Zhigansk\n",
      "City not found. Skipping...\n",
      "Processing Record 248 |Leningradskiy\n",
      "Processing Record 249 |Kedrovyy\n",
      "Processing Record 250 |Naze\n",
      "Processing Record 251 |Ashland\n",
      "City not found. Skipping...\n",
      "City not found. Skipping...\n",
      "Processing Record 252 |Kandrian\n",
      "Processing Record 253 |Geraldton\n",
      "Processing Record 254 |Jinchang\n",
      "Processing Record 255 |Saldanha\n",
      "Processing Record 256 |Dafeng\n",
      "Processing Record 257 |Lindenwold\n",
      "Processing Record 258 |Airai\n",
      "Processing Record 259 |Aykhal\n",
      "Processing Record 260 |Mandalgovi\n",
      "Processing Record 261 |Samarai\n",
      "Processing Record 262 |Thunder Bay\n",
      "Processing Record 263 |Taikang\n",
      "Processing Record 264 |The Valley\n",
      "Processing Record 265 |Iqaluit\n",
      "Processing Record 266 |Bereda\n",
      "Processing Record 267 |Hofn\n",
      "Processing Record 268 |Nouadhibou\n",
      "Processing Record 269 |Vestmannaeyjar\n",
      "Processing Record 270 |Praia da Vitória\n",
      "Processing Record 271 |Houma\n",
      "City not found. Skipping...\n",
      "Processing Record 272 |Marystown\n",
      "City not found. Skipping...\n",
      "Processing Record 273 |Changping\n",
      "Processing Record 274 |Gōtsuchō\n",
      "Processing Record 275 |Clyde River\n",
      "Processing Record 276 |Bilibino\n",
      "Processing Record 277 |Ostrovnoy\n",
      "Processing Record 278 |Cotonou\n",
      "City not found. Skipping...\n",
      "Processing Record 279 |Ormara\n",
      "Processing Record 280 |Gamba\n",
      "Processing Record 281 |Wanning\n",
      "Processing Record 282 |Maumere\n",
      "Processing Record 283 |Mattru\n",
      "Processing Record 284 |Sennar\n",
      "City not found. Skipping...\n",
      "Processing Record 285 |Mayumba\n",
      "Processing Record 286 |Ketchikan\n",
      "Processing Record 287 |Paragould\n",
      "Processing Record 288 |Mount Gambier\n",
      "Processing Record 289 |Lagoa\n",
      "Processing Record 290 |Cuamba\n",
      "Processing Record 291 |Dunedin\n",
      "Processing Record 292 |Chui\n",
      "Processing Record 293 |Cordele\n",
      "Processing Record 294 |Alyangula\n",
      "Processing Record 295 |Fort Saint James\n",
      "Processing Record 296 |Saint Anthony\n",
      "City not found. Skipping...\n",
      "Processing Record 297 |Biak\n",
      "Processing Record 298 |Beloha\n",
      "Processing Record 299 |Ulaanbaatar\n",
      "Processing Record 300 |Aksarka\n",
      "Processing Record 301 |Olinda\n",
      "Processing Record 302 |Puerto Quijarro\n",
      "Processing Record 303 |Warrnambool\n",
      "Processing Record 304 |Yatou\n",
      "Processing Record 305 |Mingora\n",
      "Processing Record 306 |Savelugu\n",
      "Processing Record 307 |Solnechnyy\n",
      "Processing Record 308 |Moussoro\n",
      "City not found. Skipping...\n",
      "City not found. Skipping...\n",
      "Processing Record 309 |Ust-Maya\n",
      "Processing Record 310 |Rocha\n",
      "Processing Record 311 |Kirensk\n",
      "Processing Record 312 |Nome\n",
      "Processing Record 313 |Brownsville\n",
      "Processing Record 314 |Goderich\n",
      "Processing Record 315 |Algiers\n",
      "Processing Record 316 |Ocós\n",
      "Processing Record 317 |Hobyo\n",
      "Processing Record 318 |Pangnirtung\n",
      "Processing Record 319 |Mataram\n",
      "Processing Record 320 |Grindavik\n",
      "Processing Record 321 |Bilma\n",
      "Processing Record 322 |Vanavara\n",
      "Processing Record 323 |Arawa\n",
      "Processing Record 324 |Namatanai\n",
      "Processing Record 325 |Kushmurun\n",
      "Processing Record 326 |Baykit\n",
      "Processing Record 327 |Khokhryaki\n",
      "Processing Record 328 |Saint George\n",
      "Processing Record 329 |Alofi\n",
      "Processing Record 330 |Uthal\n",
      "Processing Record 331 |Żory\n",
      "Processing Record 332 |Lorengau\n",
      "Processing Record 333 |Dongying\n",
      "City not found. Skipping...\n",
      "City not found. Skipping...\n",
      "Processing Record 334 |Nicolás Bravo\n",
      "Processing Record 335 |Solwezi\n",
      "Processing Record 336 |Castro\n",
      "Processing Record 337 |Okha\n",
      "Processing Record 338 |Yulara\n",
      "Processing Record 339 |Prince George\n",
      "Processing Record 340 |Lufilufi\n",
      "Processing Record 341 |Athabasca\n",
      "Processing Record 342 |Chunoyar\n",
      "Processing Record 343 |Kayerkan\n",
      "Processing Record 344 |Yar-Sale\n",
      "Processing Record 345 |Hay River\n",
      "Processing Record 346 |Krasnyy Bogatyr'\n",
      "Processing Record 347 |Aleksandrov Gay\n",
      "Processing Record 348 |Bathsheba\n",
      "Processing Record 349 |Cherskiy\n",
      "Processing Record 350 |Acapulco de Juárez\n",
      "Processing Record 351 |Stornoway\n",
      "Processing Record 352 |West Bay\n",
      "Processing Record 353 |Oussouye\n",
      "Processing Record 354 |Pochutla\n",
      "City not found. Skipping...\n",
      "Processing Record 355 |Ruidoso\n",
      "Processing Record 356 |Tomatlán\n",
      "Processing Record 357 |Hong Kong\n",
      "Processing Record 358 |Port Moresby\n",
      "Processing Record 359 |Kutum\n",
      "Processing Record 360 |Paris\n",
      "Processing Record 361 |San Lorenzo\n",
      "Processing Record 362 |Bud\n",
      "Processing Record 363 |Kalabo\n",
      "Processing Record 364 |Furmanov\n",
      "Processing Record 365 |Nemuro\n",
      "Processing Record 366 |Fort Nelson\n",
      "Processing Record 367 |Biltine\n",
      "Processing Record 368 |Isiro\n",
      "Processing Record 369 |Severo-Yeniseyskiy\n",
      "Processing Record 370 |Daru\n",
      "Processing Record 371 |Chengzihe\n",
      "Processing Record 372 |Seoul\n",
      "Processing Record 373 |Flinders\n",
      "Processing Record 374 |Ciudad Bolivar\n",
      "Processing Record 375 |Parrita\n",
      "City not found. Skipping...\n",
      "Processing Record 376 |Eloy\n",
      "Processing Record 377 |Bykovo\n",
      "Processing Record 378 |Torbay\n",
      "Processing Record 379 |Paraty\n",
      "Processing Record 380 |Dārāb\n",
      "Processing Record 381 |Granada\n",
      "Processing Record 382 |New Amsterdam\n",
      "Processing Record 383 |Şile\n",
      "Processing Record 384 |Kiwira\n",
      "Processing Record 385 |Manokwari\n",
      "City not found. Skipping...\n",
      "Processing Record 386 |Cullinan\n",
      "Processing Record 387 |Shimoni\n",
      "Processing Record 388 |Zeya\n",
      "Processing Record 389 |Taloda\n",
      "Processing Record 390 |Port Hedland\n",
      "Processing Record 391 |Necochea\n",
      "Processing Record 392 |Aranos\n",
      "Processing Record 393 |Khani\n",
      "Processing Record 394 |Esqueda\n",
      "Processing Record 395 |Severnyy\n",
      "Processing Record 396 |Chase\n",
      "Processing Record 397 |Cayenne\n",
      "Processing Record 398 |Buchanan\n",
      "Processing Record 399 |Conde\n",
      "Processing Record 400 |Cascais\n",
      "Processing Record 401 |Shimoda\n",
      "Processing Record 402 |Emerald\n",
      "Processing Record 403 |Yeppoon\n",
      "Processing Record 404 |Katsuura\n",
      "Processing Record 405 |Abu Dhabi\n",
      "Processing Record 406 |Doha\n",
      "Processing Record 407 |City of San Pedro\n",
      "Processing Record 408 |Ugoofaaru\n",
      "Processing Record 409 |Havøysund\n",
      "Processing Record 410 |Calama\n",
      "Processing Record 411 |Province of Mantua\n",
      "Processing Record 412 |Florø\n",
      "Processing Record 413 |Nizhniy Tsasuchey\n",
      "Processing Record 414 |Kampene\n",
      "Processing Record 415 |Khor\n",
      "Processing Record 416 |Isangel\n",
      "Processing Record 417 |Esil\n",
      "Processing Record 418 |Puerto Palomas\n",
      "Processing Record 419 |Brae\n",
      "Processing Record 420 |Byron Bay\n",
      "Processing Record 421 |Yichun\n",
      "Processing Record 422 |Marinette\n",
      "Processing Record 423 |Kununurra\n",
      "Processing Record 424 |Lakes Entrance\n",
      "Processing Record 425 |La Ronge\n",
      "Processing Record 426 |Puerto Escondido\n",
      "Processing Record 427 |Manggar\n",
      "Processing Record 428 |Carnarvon\n",
      "Processing Record 429 |Honiara\n",
      "Processing Record 430 |Comodoro Rivadavia\n",
      "Processing Record 431 |Lázaro Cárdenas\n",
      "Processing Record 432 |Chilca\n",
      "Processing Record 433 |Coyhaique\n",
      "Processing Record 434 |Kommunisticheskiy\n",
      "Processing Record 435 |Vostok\n",
      "Processing Record 436 |Cervo\n",
      "Processing Record 437 |Ginda\n",
      "Processing Record 438 |Dandong\n",
      "Processing Record 439 |Cockburn Town\n",
      "Processing Record 440 |Ajaigarh\n",
      "Processing Record 441 |Walvis Bay\n",
      "Processing Record 442 |Lovozero\n",
      "Processing Record 443 |Las Rosas\n",
      "Processing Record 444 |Äänekoski\n",
      "Processing Record 445 |Nuuk\n",
      "City not found. Skipping...\n",
      "Processing Record 446 |Surat Thani\n",
      "Processing Record 447 |Zhalantun\n",
      "Processing Record 448 |Los Llanos de Aridane\n",
      "Processing Record 449 |Vardø\n",
      "Processing Record 450 |Belmonte\n",
      "Processing Record 451 |Burnie\n",
      "Processing Record 452 |Alappuzha\n",
      "Processing Record 453 |Berdsk\n",
      "Processing Record 454 |Telfs\n",
      "City not found. Skipping...\n",
      "Processing Record 455 |Kamina\n",
      "Processing Record 456 |Vezirköprü\n",
      "Processing Record 457 |Aksu\n",
      "Processing Record 458 |Obzor\n",
      "Processing Record 459 |Shache\n",
      "Processing Record 460 |Katherine\n",
      "Processing Record 461 |Tari\n",
      "City not found. Skipping...\n",
      "Processing Record 462 |Sobolevo\n",
      "Processing Record 463 |Umm Kaddadah\n",
      "Processing Record 464 |Minna\n",
      "Processing Record 465 |Anaco\n",
      "Processing Record 466 |Togur\n",
      "Processing Record 467 |Highland Park\n",
      "Processing Record 468 |Macenta\n",
      "Processing Record 469 |Constitución\n",
      "Processing Record 470 |Norwood\n",
      "Processing Record 471 |Omboué\n",
      "Processing Record 472 |Pangody\n",
      "City not found. Skipping...\n",
      "Processing Record 473 |Alvarães\n",
      "City not found. Skipping...\n",
      "Processing Record 474 |Berdigestyakh\n",
      "City not found. Skipping...\n",
      "City not found. Skipping...\n",
      "Processing Record 475 |Kupang\n",
      "Processing Record 476 |Lamar\n",
      "Processing Record 477 |Damietta\n"
     ]
    },
    {
     "name": "stdout",
     "output_type": "stream",
     "text": [
      "Processing Record 478 |Roald\n",
      "Processing Record 479 |Sisimiut\n",
      "Processing Record 480 |Phalaborwa\n",
      "Processing Record 481 |Jaru\n",
      "Processing Record 482 |Iranshahr\n",
      "Processing Record 483 |Tual\n",
      "Processing Record 484 |Nicoya\n",
      "Processing Record 485 |Siilinjärvi\n",
      "Processing Record 486 |Aswān\n",
      "Processing Record 487 |Turaif\n",
      "Processing Record 488 |Pacific Grove\n",
      "Processing Record 489 |Zárate\n",
      "Processing Record 490 |Vao\n",
      "Processing Record 491 |Ürümqi\n",
      "Processing Record 492 |Gijang\n",
      "Processing Record 493 |Mâncio Lima\n",
      "Processing Record 494 |Tai’an\n",
      "Processing Record 495 |Quatre Cocos\n",
      "Processing Record 496 |San Carlos\n",
      "Processing Record 497 |Ostróda\n",
      "Processing Record 498 |Casablanca\n",
      "Processing Record 499 |Teya\n",
      "Processing Record 500 |Launceston\n",
      "Processing Record 501 |Muroto-misakicho\n",
      "Processing Record 502 |Borogontsy\n",
      "Processing Record 503 |Tres Palos\n",
      "Processing Record 504 |Baculin\n",
      "Processing Record 505 |Lima\n",
      "Processing Record 506 |Megion\n",
      "Processing Record 507 |Inhapim\n",
      "Processing Record 508 |Dalbandin\n",
      "Processing Record 509 |Belaya Gora\n",
      "Processing Record 510 |Norman Wells\n",
      "City not found. Skipping...\n",
      "Processing Record 511 |Rogovatoye\n",
      "Processing Record 512 |Viedma\n",
      "Processing Record 513 |Albanel\n",
      "Processing Record 514 |Den Helder\n",
      "City not found. Skipping...\n",
      "Processing Record 515 |Garissa\n",
      "Processing Record 516 |Vila Franca do Campo\n",
      "Processing Record 517 |Marabá\n",
      "Processing Record 518 |Tsabong\n",
      "Processing Record 519 |Wuzhou\n",
      "Processing Record 520 |Bam\n",
      "Processing Record 521 |Nowy Dwór Mazowiecki\n",
      "Processing Record 522 |Nunkiní\n",
      "Processing Record 523 |Dolores\n",
      "Processing Record 524 |Sabirabad\n",
      "Processing Record 525 |Puri\n",
      "Processing Record 526 |Puerto Madero\n",
      "City not found. Skipping...\n",
      "Processing Record 527 |Natchitoches\n",
      "Processing Record 528 |Sabla\n",
      "Processing Record 529 |Progreso\n",
      "Processing Record 530 |Kruisfontein\n",
      "Processing Record 531 |Santa Fe\n",
      "Processing Record 532 |Inhambane\n",
      "Processing Record 533 |Skibbereen\n",
      "Processing Record 534 |Marawi\n",
      "Processing Record 535 |Portobelo\n",
      "Processing Record 536 |Henties Bay\n",
      "City not found. Skipping...\n",
      "Processing Record 537 |Karasuk\n",
      "Processing Record 538 |Truth or Consequences\n",
      "Processing Record 539 |Hayesville\n",
      "Processing Record 540 |Webuye\n",
      "Processing Record 541 |Terrasini\n",
      "Processing Record 542 |Al Bardīyah\n",
      "Processing Record 543 |Rapid Valley\n",
      "Processing Record 544 |Ancud\n",
      "Processing Record 545 |Santa Maria da Vitória\n",
      "Processing Record 546 |Soyaux\n",
      "Processing Record 547 |Rabo de Peixe\n",
      "Processing Record 548 |Abu Kamal\n",
      "Processing Record 549 |Kuytun\n",
      "Processing Record 550 |Verkhoyansk\n",
      "Processing Record 551 |Alice Springs\n",
      "Processing Record 552 |Sur\n",
      "Processing Record 553 |Enshi\n",
      "Processing Record 554 |Meulaboh\n",
      "Processing Record 555 |Berezniki\n",
      "Processing Record 556 |Codrington\n",
      "Processing Record 557 |Moindou\n",
      "Processing Record 558 |Sibolga\n",
      "Processing Record 559 |Bogalusa\n",
      "Processing Record 560 |Mahbūbnagar\n"
     ]
    }
   ],
   "source": [
    "url = \"http://api.openweathermap.org/data/2.5/weather?\"\n",
    "query_url = f\"{url}appid={weather_api_key}&q=\"\n",
    "\n",
    "print(\"Beginning Data Retrieval\")\n",
    "print(\"-------------------------\")\n",
    "\n",
    "ind = 0\n",
    "for city in cities:\n",
    "    response = requests.get(query_url + city).json()\n",
    "    try:\n",
    "        results = response['name']\n",
    "        print (f\"Processing Record {ind+1} |{results}\")\n",
    "        weather_summary_df.loc[ind,'City'] = results\n",
    "        weather_summary_df.loc[ind,'Lat'] = response[\"coord\"][\"lat\"]\n",
    "        weather_summary_df.loc[ind,'Lng'] = response[\"coord\"][\"lon\"]\n",
    "        weather_summary_df.loc[ind,'Max Temp'] = response['main']['temp_max']\n",
    "        weather_summary_df.loc[ind,'Humidity'] = response['main']['humidity']\n",
    "        weather_summary_df.loc[ind,'Cloudiness'] = response['clouds']['all']\n",
    "        weather_summary_df.loc[ind,'Wind Speed'] = response['wind']['speed']\n",
    "        weather_summary_df.loc[ind,'Country'] = response['sys']['country']\n",
    "        weather_summary_df.loc[ind,'Date'] = response['dt']\n",
    "        ind += 1\n",
    "        \n",
    "    except(KeyError, IndexError):\n",
    "        print(\"City not found. Skipping...\")\n"
   ]
  },
  {
   "cell_type": "markdown",
   "metadata": {},
   "source": [
    "### Convert Raw Data to DataFrame\n",
    "* Export the city data into a .csv.\n",
    "* Display the DataFrame"
   ]
  },
  {
   "cell_type": "code",
   "execution_count": 5,
   "metadata": {},
   "outputs": [
    {
     "data": {
      "text/html": [
       "<div>\n",
       "<style scoped>\n",
       "    .dataframe tbody tr th:only-of-type {\n",
       "        vertical-align: middle;\n",
       "    }\n",
       "\n",
       "    .dataframe tbody tr th {\n",
       "        vertical-align: top;\n",
       "    }\n",
       "\n",
       "    .dataframe thead th {\n",
       "        text-align: right;\n",
       "    }\n",
       "</style>\n",
       "<table border=\"1\" class=\"dataframe\">\n",
       "  <thead>\n",
       "    <tr style=\"text-align: right;\">\n",
       "      <th></th>\n",
       "      <th>City</th>\n",
       "      <th>Lat</th>\n",
       "      <th>Lng</th>\n",
       "      <th>Max Temp</th>\n",
       "      <th>Humidity</th>\n",
       "      <th>Cloudiness</th>\n",
       "      <th>Wind Speed</th>\n",
       "      <th>Country</th>\n",
       "      <th>Date</th>\n",
       "    </tr>\n",
       "  </thead>\n",
       "  <tbody>\n",
       "    <tr>\n",
       "      <th>0</th>\n",
       "      <td>Upernavik</td>\n",
       "      <td>72.79</td>\n",
       "      <td>-56.15</td>\n",
       "      <td>272.16</td>\n",
       "      <td>98</td>\n",
       "      <td>100</td>\n",
       "      <td>5.73</td>\n",
       "      <td>GL</td>\n",
       "      <td>1589607105</td>\n",
       "    </tr>\n",
       "    <tr>\n",
       "      <th>1</th>\n",
       "      <td>Mahébourg</td>\n",
       "      <td>-20.41</td>\n",
       "      <td>57.7</td>\n",
       "      <td>295.15</td>\n",
       "      <td>83</td>\n",
       "      <td>20</td>\n",
       "      <td>1.5</td>\n",
       "      <td>MU</td>\n",
       "      <td>1589607105</td>\n",
       "    </tr>\n",
       "    <tr>\n",
       "      <th>2</th>\n",
       "      <td>Saint Paul Harbor</td>\n",
       "      <td>57.79</td>\n",
       "      <td>-152.41</td>\n",
       "      <td>281.15</td>\n",
       "      <td>87</td>\n",
       "      <td>90</td>\n",
       "      <td>6.7</td>\n",
       "      <td>US</td>\n",
       "      <td>1589607105</td>\n",
       "    </tr>\n",
       "    <tr>\n",
       "      <th>3</th>\n",
       "      <td>Saint-Augustin</td>\n",
       "      <td>51.23</td>\n",
       "      <td>-58.65</td>\n",
       "      <td>273.84</td>\n",
       "      <td>93</td>\n",
       "      <td>27</td>\n",
       "      <td>3.7</td>\n",
       "      <td>CA</td>\n",
       "      <td>1589607106</td>\n",
       "    </tr>\n",
       "    <tr>\n",
       "      <th>4</th>\n",
       "      <td>Dustlik</td>\n",
       "      <td>40.52</td>\n",
       "      <td>68.04</td>\n",
       "      <td>295.36</td>\n",
       "      <td>48</td>\n",
       "      <td>100</td>\n",
       "      <td>0.67</td>\n",
       "      <td>UZ</td>\n",
       "      <td>1589607106</td>\n",
       "    </tr>\n",
       "  </tbody>\n",
       "</table>\n",
       "</div>"
      ],
      "text/plain": [
       "                City    Lat     Lng Max Temp Humidity Cloudiness Wind Speed  \\\n",
       "0          Upernavik  72.79  -56.15   272.16       98        100       5.73   \n",
       "1          Mahébourg -20.41    57.7   295.15       83         20        1.5   \n",
       "2  Saint Paul Harbor  57.79 -152.41   281.15       87         90        6.7   \n",
       "3     Saint-Augustin  51.23  -58.65   273.84       93         27        3.7   \n",
       "4            Dustlik  40.52   68.04   295.36       48        100       0.67   \n",
       "\n",
       "  Country        Date  \n",
       "0      GL  1589607105  \n",
       "1      MU  1589607105  \n",
       "2      US  1589607105  \n",
       "3      CA  1589607106  \n",
       "4      UZ  1589607106  "
      ]
     },
     "execution_count": 5,
     "metadata": {},
     "output_type": "execute_result"
    }
   ],
   "source": [
    "weather_summary_df.head()"
   ]
  },
  {
   "cell_type": "markdown",
   "metadata": {},
   "source": [
    "## Inspect the data and remove the cities where the humidity > 100%.\n",
    "----\n",
    "Skip this step if there are no cities that have humidity > 100%. "
   ]
  },
  {
   "cell_type": "code",
   "execution_count": 6,
   "metadata": {},
   "outputs": [
    {
     "data": {
      "text/html": [
       "<div>\n",
       "<style scoped>\n",
       "    .dataframe tbody tr th:only-of-type {\n",
       "        vertical-align: middle;\n",
       "    }\n",
       "\n",
       "    .dataframe tbody tr th {\n",
       "        vertical-align: top;\n",
       "    }\n",
       "\n",
       "    .dataframe thead th {\n",
       "        text-align: right;\n",
       "    }\n",
       "</style>\n",
       "<table border=\"1\" class=\"dataframe\">\n",
       "  <thead>\n",
       "    <tr style=\"text-align: right;\">\n",
       "      <th></th>\n",
       "      <th>City</th>\n",
       "      <th>Lat</th>\n",
       "      <th>Lng</th>\n",
       "      <th>Max Temp</th>\n",
       "      <th>Humidity</th>\n",
       "      <th>Cloudiness</th>\n",
       "      <th>Wind Speed</th>\n",
       "      <th>Country</th>\n",
       "      <th>Date</th>\n",
       "    </tr>\n",
       "  </thead>\n",
       "  <tbody>\n",
       "  </tbody>\n",
       "</table>\n",
       "</div>"
      ],
      "text/plain": [
       "Empty DataFrame\n",
       "Columns: [City, Lat, Lng, Max Temp, Humidity, Cloudiness, Wind Speed, Country, Date]\n",
       "Index: []"
      ]
     },
     "execution_count": 6,
     "metadata": {},
     "output_type": "execute_result"
    }
   ],
   "source": [
    "humidity_df = weather_summary_df[weather_summary_df[\"Humidity\"] >100]\n",
    "humidity_df\n"
   ]
  },
  {
   "cell_type": "code",
   "execution_count": 9,
   "metadata": {},
   "outputs": [
    {
     "data": {
      "text/html": [
       "<div>\n",
       "<style scoped>\n",
       "    .dataframe tbody tr th:only-of-type {\n",
       "        vertical-align: middle;\n",
       "    }\n",
       "\n",
       "    .dataframe tbody tr th {\n",
       "        vertical-align: top;\n",
       "    }\n",
       "\n",
       "    .dataframe thead th {\n",
       "        text-align: right;\n",
       "    }\n",
       "</style>\n",
       "<table border=\"1\" class=\"dataframe\">\n",
       "  <thead>\n",
       "    <tr style=\"text-align: right;\">\n",
       "      <th></th>\n",
       "      <th>City</th>\n",
       "      <th>Lat</th>\n",
       "      <th>Lng</th>\n",
       "      <th>Max Temp</th>\n",
       "      <th>Humidity</th>\n",
       "      <th>Cloudiness</th>\n",
       "      <th>Wind Speed</th>\n",
       "      <th>Country</th>\n",
       "      <th>Date</th>\n",
       "    </tr>\n",
       "  </thead>\n",
       "  <tbody>\n",
       "    <tr>\n",
       "      <th>0</th>\n",
       "      <td>Upernavik</td>\n",
       "      <td>72.79</td>\n",
       "      <td>-56.15</td>\n",
       "      <td>272.16</td>\n",
       "      <td>98</td>\n",
       "      <td>100</td>\n",
       "      <td>5.73</td>\n",
       "      <td>GL</td>\n",
       "      <td>1589607105</td>\n",
       "    </tr>\n",
       "    <tr>\n",
       "      <th>1</th>\n",
       "      <td>Mahébourg</td>\n",
       "      <td>-20.41</td>\n",
       "      <td>57.7</td>\n",
       "      <td>295.15</td>\n",
       "      <td>83</td>\n",
       "      <td>20</td>\n",
       "      <td>1.5</td>\n",
       "      <td>MU</td>\n",
       "      <td>1589607105</td>\n",
       "    </tr>\n",
       "    <tr>\n",
       "      <th>2</th>\n",
       "      <td>Saint Paul Harbor</td>\n",
       "      <td>57.79</td>\n",
       "      <td>-152.41</td>\n",
       "      <td>281.15</td>\n",
       "      <td>87</td>\n",
       "      <td>90</td>\n",
       "      <td>6.7</td>\n",
       "      <td>US</td>\n",
       "      <td>1589607105</td>\n",
       "    </tr>\n",
       "    <tr>\n",
       "      <th>3</th>\n",
       "      <td>Saint-Augustin</td>\n",
       "      <td>51.23</td>\n",
       "      <td>-58.65</td>\n",
       "      <td>273.84</td>\n",
       "      <td>93</td>\n",
       "      <td>27</td>\n",
       "      <td>3.7</td>\n",
       "      <td>CA</td>\n",
       "      <td>1589607106</td>\n",
       "    </tr>\n",
       "    <tr>\n",
       "      <th>4</th>\n",
       "      <td>Dustlik</td>\n",
       "      <td>40.52</td>\n",
       "      <td>68.04</td>\n",
       "      <td>295.36</td>\n",
       "      <td>48</td>\n",
       "      <td>100</td>\n",
       "      <td>0.67</td>\n",
       "      <td>UZ</td>\n",
       "      <td>1589607106</td>\n",
       "    </tr>\n",
       "  </tbody>\n",
       "</table>\n",
       "</div>"
      ],
      "text/plain": [
       "                City    Lat     Lng Max Temp Humidity Cloudiness Wind Speed  \\\n",
       "0          Upernavik  72.79  -56.15   272.16       98        100       5.73   \n",
       "1          Mahébourg -20.41    57.7   295.15       83         20        1.5   \n",
       "2  Saint Paul Harbor  57.79 -152.41   281.15       87         90        6.7   \n",
       "3     Saint-Augustin  51.23  -58.65   273.84       93         27        3.7   \n",
       "4            Dustlik  40.52   68.04   295.36       48        100       0.67   \n",
       "\n",
       "  Country        Date  \n",
       "0      GL  1589607105  \n",
       "1      MU  1589607105  \n",
       "2      US  1589607105  \n",
       "3      CA  1589607106  \n",
       "4      UZ  1589607106  "
      ]
     },
     "execution_count": 9,
     "metadata": {},
     "output_type": "execute_result"
    }
   ],
   "source": [
    "# Make a new DataFrame equal to the city data to drop all humidity outliers by index.\n",
    "# Passing \"inplace=False\" will make a copy of the city_data DataFrame, which we call \"clean_city_data\".\n",
    "clean_data = weather_summary_df[weather_summary_df[\"Humidity\"] <= 100]\n",
    "clean_data.head()"
   ]
  },
  {
   "cell_type": "code",
   "execution_count": 10,
   "metadata": {},
   "outputs": [],
   "source": [
    "# Extract relevant fields from the data frame\n",
    "# Export the City_Data into a csv\n",
    "clean_data.to_csv(\"cities.csv\")"
   ]
  },
  {
   "cell_type": "markdown",
   "metadata": {},
   "source": [
    "## Plotting the Data\n",
    "* Use proper labeling of the plots using plot titles (including date of analysis) and axes labels.\n",
    "* Save the plotted figures as .pngs."
   ]
  },
  {
   "cell_type": "markdown",
   "metadata": {},
   "source": [
    "## Latitude vs. Temperature Plot"
   ]
  },
  {
   "cell_type": "code",
   "execution_count": 11,
   "metadata": {
    "scrolled": true
   },
   "outputs": [
    {
     "data": {
      "image/png": "[encoded data removed]",
      "text/plain": [
       "<Figure size 432x288 with 1 Axes>"
      ]
     },
     "metadata": {
      "needs_background": "light"
     },
     "output_type": "display_data"
    },
    {
     "name": "stdout",
     "output_type": "stream",
     "text": [
      "The nearer the equator, the higher the temperature.\n"
     ]
    }
   ],
   "source": [
    "clean_data[\"Lat\"] = clean_data[\"Lat\"].astype(int)\n",
    "clean_data[\"Max Temp\"] = clean_data[\"Max Temp\"].astype(int)\n",
    "clean_data.plot.scatter(x='Lat',y='Max Temp',marker=\"o\", facecolors=\"tab:blue\",edgecolor='black')\n",
    "\n",
    "plt.title(\"City Latitude vs. Max Temperature(04/01/20)\")\n",
    "plt.xlabel(\"Latitude\")\n",
    "plt.ylabel(\"Max Temperature(F)\")\n",
    "plt.show()\n",
    "print(\"The nearer the equator, the higher the temperature.\")"
   ]
  },
  {
   "cell_type": "markdown",
   "metadata": {},
   "source": [
    "## Latitude vs. Humidity Plot"
   ]
  },
  {
   "cell_type": "code",
   "execution_count": 12,
   "metadata": {},
   "outputs": [
    {
     "data": {
      "image/png": "[encoded data removed]",
      "text/plain": [
       "<Figure size 432x288 with 1 Axes>"
      ]
     },
     "metadata": {
      "needs_background": "light"
     },
     "output_type": "display_data"
    },
    {
     "name": "stdout",
     "output_type": "stream",
     "text": [
      "Humidity and latitude show low correlation.\n"
     ]
    }
   ],
   "source": [
    "clean_data[\"Humidity\"] = clean_data[\"Humidity\"].astype(int)\n",
    "clean_data.plot.scatter(x='Lat',y='Humidity',marker=\"o\", facecolors=\"tab:blue\",edgecolor='black')\n",
    "\n",
    "plt.title(\"City Latitude vs. Humidity(04/01/20)\")\n",
    "plt.xlabel(\"Latitude\")\n",
    "plt.ylabel(\"Humidity(%)\")\n",
    "plt.show()\n",
    "print(\"Humidity and latitude show low correlation.\")"
   ]
  },
  {
   "cell_type": "markdown",
   "metadata": {},
   "source": [
    "## Latitude vs. Cloudiness Plot"
   ]
  },
  {
   "cell_type": "code",
   "execution_count": 13,
   "metadata": {},
   "outputs": [
    {
     "data": {
      "image/png": "[encoded data removed]",
      "text/plain": [
       "<Figure size 432x288 with 1 Axes>"
      ]
     },
     "metadata": {
      "needs_background": "light"
     },
     "output_type": "display_data"
    },
    {
     "name": "stdout",
     "output_type": "stream",
     "text": [
      "Cloudiness doesn't seem to have anything to do with latitude. It's spread all over the place.\n"
     ]
    }
   ],
   "source": [
    "clean_data[\"Cloudiness\"] = clean_data[\"Cloudiness\"].astype(int)\n",
    "\n",
    "clean_data.plot.scatter(x='Lat',y='Cloudiness',marker=\"o\", facecolors=\"tab:blue\",edgecolor='black')\n",
    "\n",
    "plt.title(\"City Latitude vs. Cloudiness(04/01/20)\")\n",
    "plt.xlabel(\"Latitude\")\n",
    "plt.ylabel(\"Cloudiness(%)\")\n",
    "plt.show()\n",
    "print(\"Cloudiness doesn't seem to have anything to do with latitude. It's spread all over the place.\")"
   ]
  },
  {
   "cell_type": "markdown",
   "metadata": {},
   "source": [
    "## Latitude vs. Wind Speed Plot"
   ]
  },
  {
   "cell_type": "code",
   "execution_count": 14,
   "metadata": {},
   "outputs": [
    {
     "data": {
      "image/png": "[encoded data removed]",
      "text/plain": [
       "<Figure size 432x288 with 1 Axes>"
      ]
     },
     "metadata": {
      "needs_background": "light"
     },
     "output_type": "display_data"
    },
    {
     "name": "stdout",
     "output_type": "stream",
     "text": [
      "Wind speed doesn't seem to have anything to do with latitude.It's spread all over the place.\n"
     ]
    }
   ],
   "source": [
    "clean_data[\"Wind Speed\"] = clean_data[\"Wind Speed\"].astype(int)\n",
    "\n",
    "clean_data.plot.scatter(x='Lat',y='Wind Speed',marker=\"o\", facecolors=\"tab:blue\",edgecolor='black')\n",
    "\n",
    "plt.title(\"City Latitude vs. Wind Speed(04/01/20)\")\n",
    "plt.xlabel(\"Latitude\")\n",
    "plt.ylabel(\"Wind Speed(mph)\")\n",
    "plt.show()\n",
    "print(\"Wind speed doesn't seem to have anything to do with latitude.It's spread all over the place.\")"
   ]
  },
  {
   "cell_type": "markdown",
   "metadata": {},
   "source": [
    "## Linear Regression"
   ]
  },
  {
   "cell_type": "code",
   "execution_count": 15,
   "metadata": {},
   "outputs": [],
   "source": [
    "# OPTIONAL: Create a function to create Linear Regression plots"
   ]
  },
  {
   "cell_type": "code",
   "execution_count": 16,
   "metadata": {},
   "outputs": [
    {
     "data": {
      "text/html": [
       "<div>\n",
       "<style scoped>\n",
       "    .dataframe tbody tr th:only-of-type {\n",
       "        vertical-align: middle;\n",
       "    }\n",
       "\n",
       "    .dataframe tbody tr th {\n",
       "        vertical-align: top;\n",
       "    }\n",
       "\n",
       "    .dataframe thead th {\n",
       "        text-align: right;\n",
       "    }\n",
       "</style>\n",
       "<table border=\"1\" class=\"dataframe\">\n",
       "  <thead>\n",
       "    <tr style=\"text-align: right;\">\n",
       "      <th></th>\n",
       "      <th>City</th>\n",
       "      <th>Lat</th>\n",
       "      <th>Lng</th>\n",
       "      <th>Max Temp</th>\n",
       "      <th>Humidity</th>\n",
       "      <th>Cloudiness</th>\n",
       "      <th>Wind Speed</th>\n",
       "      <th>Country</th>\n",
       "      <th>Date</th>\n",
       "    </tr>\n",
       "  </thead>\n",
       "  <tbody>\n",
       "    <tr>\n",
       "      <th>1</th>\n",
       "      <td>Mahébourg</td>\n",
       "      <td>-20</td>\n",
       "      <td>57.7</td>\n",
       "      <td>295</td>\n",
       "      <td>83</td>\n",
       "      <td>20</td>\n",
       "      <td>1</td>\n",
       "      <td>MU</td>\n",
       "      <td>1589607105</td>\n",
       "    </tr>\n",
       "    <tr>\n",
       "      <th>5</th>\n",
       "      <td>Ushuaia</td>\n",
       "      <td>-54</td>\n",
       "      <td>-68.3</td>\n",
       "      <td>278</td>\n",
       "      <td>80</td>\n",
       "      <td>75</td>\n",
       "      <td>2</td>\n",
       "      <td>AR</td>\n",
       "      <td>1589606842</td>\n",
       "    </tr>\n",
       "    <tr>\n",
       "      <th>7</th>\n",
       "      <td>Bengkulu</td>\n",
       "      <td>-3</td>\n",
       "      <td>102.27</td>\n",
       "      <td>303</td>\n",
       "      <td>66</td>\n",
       "      <td>35</td>\n",
       "      <td>4</td>\n",
       "      <td>ID</td>\n",
       "      <td>1589607107</td>\n",
       "    </tr>\n",
       "    <tr>\n",
       "      <th>8</th>\n",
       "      <td>Colac</td>\n",
       "      <td>-38</td>\n",
       "      <td>143.58</td>\n",
       "      <td>288</td>\n",
       "      <td>64</td>\n",
       "      <td>0</td>\n",
       "      <td>0</td>\n",
       "      <td>AU</td>\n",
       "      <td>1589607107</td>\n",
       "    </tr>\n",
       "    <tr>\n",
       "      <th>9</th>\n",
       "      <td>Kirakira</td>\n",
       "      <td>-10</td>\n",
       "      <td>161.92</td>\n",
       "      <td>301</td>\n",
       "      <td>81</td>\n",
       "      <td>36</td>\n",
       "      <td>4</td>\n",
       "      <td>SB</td>\n",
       "      <td>1589607107</td>\n",
       "    </tr>\n",
       "  </tbody>\n",
       "</table>\n",
       "</div>"
      ],
      "text/plain": [
       "        City  Lat     Lng  Max Temp  Humidity  Cloudiness  Wind Speed Country  \\\n",
       "1  Mahébourg  -20    57.7       295        83          20           1      MU   \n",
       "5    Ushuaia  -54   -68.3       278        80          75           2      AR   \n",
       "7   Bengkulu   -3  102.27       303        66          35           4      ID   \n",
       "8      Colac  -38  143.58       288        64           0           0      AU   \n",
       "9   Kirakira  -10  161.92       301        81          36           4      SB   \n",
       "\n",
       "         Date  \n",
       "1  1589607105  \n",
       "5  1589606842  \n",
       "7  1589607107  \n",
       "8  1589607107  \n",
       "9  1589607107  "
      ]
     },
     "execution_count": 16,
     "metadata": {},
     "output_type": "execute_result"
    }
   ],
   "source": [
    "# Create Northern and Southern Hemisphere DataFrames\n",
    "Northern_Ham = clean_data[clean_data[\"Lat\"] >= 0]\n",
    "Northern_Ham\n",
    "Southern_Ham = clean_data[clean_data[\"Lat\"] < 0]\n",
    "Southern_Ham.head()"
   ]
  },
  {
   "cell_type": "markdown",
   "metadata": {},
   "source": [
    "####  Northern Hemisphere - Max Temp vs. Latitude Linear Regression"
   ]
  },
  {
   "cell_type": "code",
   "execution_count": 17,
   "metadata": {},
   "outputs": [
    {
     "name": "stdout",
     "output_type": "stream",
     "text": [
      "The r-squared is:0.6635447493344823\n"
     ]
    },
    {
     "data": {
      "image/png": "[encoded data removed]",
      "text/plain": [
       "<Figure size 432x288 with 1 Axes>"
      ]
     },
     "metadata": {
      "needs_background": "light"
     },
     "output_type": "display_data"
    }
   ],
   "source": [
    "x_values = Northern_Ham[\"Lat\"]\n",
    "y_values = Northern_Ham[\"Max Temp\"]\n",
    "correlation = st.pearsonr(x_values,y_values)\n",
    "(slope, intercept, rvalue, pvalue, stderr) = linregress(x_values,y_values)\n",
    "regress_values = x_values * slope + intercept\n",
    "line_eq = \"y = \" + str(round(slope,2)) + \"x + \" + str(round(intercept,2))\n",
    "plt.plot(x_values,regress_values,\"r-\")\n",
    "print(f\"The r-squared is:{rvalue**2}\")\n",
    "plt.scatter(x_values,y_values,marker=\"o\", facecolors=\"tab:blue\")\n",
    "plt.annotate(line_eq,(0,280),fontsize=15,color=\"red\")\n",
    "plt.title(\"Northern_Hamisphere - City Latitude vs. Max Temperature(04/01/20)\")\n",
    "plt.xlabel(\"Latitude\")\n",
    "plt.ylabel(\"Max Temperature(F)\")\n",
    "plt.show()\n"
   ]
  },
  {
   "cell_type": "markdown",
   "metadata": {},
   "source": [
    "####  Southern Hemisphere - Max Temp vs. Latitude Linear Regression"
   ]
  },
  {
   "cell_type": "code",
   "execution_count": 18,
   "metadata": {
    "scrolled": true
   },
   "outputs": [
    {
     "name": "stdout",
     "output_type": "stream",
     "text": [
      "The r-squared is:0.4733874959031539\n"
     ]
    },
    {
     "data": {
      "image/png": "[encoded data removed]",
      "text/plain": [
       "<Figure size 432x288 with 1 Axes>"
      ]
     },
     "metadata": {
      "needs_background": "light"
     },
     "output_type": "display_data"
    }
   ],
   "source": [
    "x_values = Southern_Ham[\"Lat\"]\n",
    "y_values = Southern_Ham[\"Max Temp\"]\n",
    "correlation = st.pearsonr(x_values,y_values)\n",
    "(slope, intercept, rvalue, pvalue, stderr) = linregress(x_values,y_values)\n",
    "regress_values = x_values * slope + intercept\n",
    "line_eq = \"y = \" + str(round(slope,2)) + \"x + \" + str(round(intercept,2))\n",
    "plt.plot(x_values,regress_values,\"r-\")\n",
    "print(f\"The r-squared is:{rvalue**2}\")\n",
    "plt.scatter(x_values,y_values,marker=\"o\", facecolors=\"tab:blue\")\n",
    "plt.annotate(line_eq,(-50,300),fontsize=15,color=\"red\")\n",
    "plt.title(\"Southern Hemisphere - City Latitude vs. Max Temperature(04/01/20)\")\n",
    "plt.xlabel(\"Latitude\")\n",
    "plt.ylabel(\"Max Temperature(F)\")\n",
    "plt.show()\n",
    "\n"
   ]
  },
  {
   "cell_type": "markdown",
   "metadata": {},
   "source": [
    "Temperature and latitude seem to be correlated. r-squared value of northern hemisphere is higher(0.77) than r-squared value of sourthern hemisphere(0.66)."
   ]
  },
  {
   "cell_type": "markdown",
   "metadata": {},
   "source": [
    "####  Northern Hemisphere - Humidity (%) vs. Latitude Linear Regression"
   ]
  },
  {
   "cell_type": "code",
   "execution_count": 19,
   "metadata": {
    "scrolled": true
   },
   "outputs": [
    {
     "name": "stdout",
     "output_type": "stream",
     "text": [
      "The r-squared is:0.0044122443047461095\n"
     ]
    },
    {
     "data": {
      "image/png": "[encoded data removed]",
      "text/plain": [
       "<Figure size 432x288 with 1 Axes>"
      ]
     },
     "metadata": {
      "needs_background": "light"
     },
     "output_type": "display_data"
    }
   ],
   "source": [
    "x_values = Northern_Ham[\"Lat\"]\n",
    "y_values = Northern_Ham[\"Humidity\"]\n",
    "correlation = st.pearsonr(x_values,y_values)\n",
    "(slope, intercept, rvalue, pvalue, stderr) = linregress(x_values,y_values)\n",
    "regress_values = x_values * slope + intercept\n",
    "line_eq = \"y = \" + str(round(slope,2)) + \"x + \" + str(round(intercept,2))\n",
    "plt.plot(x_values,regress_values,\"r-\")\n",
    "print(f\"The r-squared is:{rvalue**2}\")\n",
    "plt.scatter(x_values,y_values,marker=\"o\", facecolors=\"tab:blue\")\n",
    "plt.annotate(line_eq,(40,10),fontsize=15,color=\"red\")\n",
    "plt.title(\"Northern_Hamisphere - City Latitude vs. Humidity(04/01/20)\")\n",
    "plt.xlabel(\"Latitude\")\n",
    "plt.ylabel(\"Humidity(%)\")\n",
    "plt.show()"
   ]
  },
  {
   "cell_type": "markdown",
   "metadata": {},
   "source": [
    "####  Southern Hemisphere - Humidity (%) vs. Latitude Linear Regression"
   ]
  },
  {
   "cell_type": "code",
   "execution_count": 20,
   "metadata": {
    "scrolled": true
   },
   "outputs": [
    {
     "name": "stdout",
     "output_type": "stream",
     "text": [
      "The r-squared is:0.03567564691356182\n"
     ]
    },
    {
     "data": {
      "image/png": "[encoded data removed]",
      "text/plain": [
       "<Figure size 432x288 with 1 Axes>"
      ]
     },
     "metadata": {
      "needs_background": "light"
     },
     "output_type": "display_data"
    }
   ],
   "source": [
    "x_values = Southern_Ham[\"Lat\"]\n",
    "y_values = Southern_Ham[\"Humidity\"]\n",
    "correlation = st.pearsonr(x_values,y_values)\n",
    "(slope, intercept, rvalue, pvalue, stderr) = linregress(x_values,y_values)\n",
    "regress_values = x_values * slope + intercept\n",
    "line_eq = \"y = \" + str(round(slope,2)) + \"x + \" + str(round(intercept,2))\n",
    "plt.plot(x_values,regress_values,\"r-\")\n",
    "print(f\"The r-squared is:{rvalue**2}\")\n",
    "plt.scatter(x_values,y_values,marker=\"o\", facecolors=\"tab:blue\")\n",
    "plt.annotate(line_eq,(-50,10),fontsize=15,color=\"red\")\n",
    "plt.title(\"Southern Hemisphere - City Latitude vs. Humidity(04/01/20)\")\n",
    "plt.xlabel(\"Latitude\")\n",
    "plt.ylabel(\"Humidity(%)\")\n",
    "plt.show()"
   ]
  },
  {
   "cell_type": "markdown",
   "metadata": {},
   "source": [
    "Humidity and latitude don't seem to be correlated in both the northern and southern hemispheres.Both show low r-squared value."
   ]
  },
  {
   "cell_type": "markdown",
   "metadata": {},
   "source": [
    "####  Northern Hemisphere - Cloudiness (%) vs. Latitude Linear Regression"
   ]
  },
  {
   "cell_type": "code",
   "execution_count": 21,
   "metadata": {
    "scrolled": true
   },
   "outputs": [
    {
     "name": "stdout",
     "output_type": "stream",
     "text": [
      "The r-squared is:0.022168642767719814\n"
     ]
    },
    {
     "data": {
      "image/png": "[encoded data removed]",
      "text/plain": [
       "<Figure size 432x288 with 1 Axes>"
      ]
     },
     "metadata": {
      "needs_background": "light"
     },
     "output_type": "display_data"
    }
   ],
   "source": [
    "x_values = Northern_Ham[\"Lat\"]\n",
    "y_values = Northern_Ham[\"Cloudiness\"]\n",
    "correlation = st.pearsonr(x_values,y_values)\n",
    "(slope, intercept, rvalue, pvalue, stderr) = linregress(x_values,y_values)\n",
    "regress_values = x_values * slope + intercept\n",
    "line_eq = \"y = \" + str(round(slope,2)) + \"x + \" + str(round(intercept,2))\n",
    "plt.plot(x_values,regress_values,\"r-\")\n",
    "print(f\"The r-squared is:{rvalue**2}\")\n",
    "plt.scatter(x_values,y_values,marker=\"o\", facecolors=\"tab:blue\")\n",
    "plt.annotate(line_eq,(40,30),fontsize=15,color=\"red\")\n",
    "plt.title(\"Northern_Hamisphere - City Latitude vs. Cloudiness(04/01/20)\")\n",
    "plt.xlabel(\"Latitude\")\n",
    "plt.ylabel(\"Cloudiness\")\n",
    "plt.show()"
   ]
  },
  {
   "cell_type": "markdown",
   "metadata": {},
   "source": [
    "####  Southern Hemisphere - Cloudiness (%) vs. Latitude Linear Regression"
   ]
  },
  {
   "cell_type": "code",
   "execution_count": 22,
   "metadata": {
    "scrolled": true
   },
   "outputs": [
    {
     "name": "stdout",
     "output_type": "stream",
     "text": [
      "The r-squared is:0.02227004981046558\n"
     ]
    },
    {
     "data": {
      "image/png": "[encoded data removed]",
      "text/plain": [
       "<Figure size 432x288 with 1 Axes>"
      ]
     },
     "metadata": {
      "needs_background": "light"
     },
     "output_type": "display_data"
    }
   ],
   "source": [
    "x_values = Southern_Ham[\"Lat\"]\n",
    "y_values = Southern_Ham[\"Cloudiness\"]\n",
    "correlation = st.pearsonr(x_values,y_values)\n",
    "(slope, intercept, rvalue, pvalue, stderr) = linregress(x_values,y_values)\n",
    "regress_values = x_values * slope + intercept\n",
    "line_eq = \"y = \" + str(round(slope,2)) + \"x + \" + str(round(intercept,2))\n",
    "plt.plot(x_values,regress_values,\"r-\")\n",
    "print(f\"The r-squared is:{rvalue**2}\")\n",
    "plt.scatter(x_values,y_values,marker=\"o\", facecolors=\"tab:blue\")\n",
    "plt.annotate(line_eq,(-50,55),fontsize=15,color=\"red\")\n",
    "plt.title(\"Southern Hamisphere - City Latitude vs. Cloudiness(04/01/20)\")\n",
    "plt.xlabel(\"Latitude\")\n",
    "plt.ylabel(\"Cloudiness\")\n",
    "plt.show()"
   ]
  },
  {
   "cell_type": "markdown",
   "metadata": {},
   "source": [
    "Cloudiness and latitude don't seem to be correlated in both the northern and southern hemispheres.Both show very low r-squared value, especially in the northern hemisphere."
   ]
  },
  {
   "cell_type": "markdown",
   "metadata": {},
   "source": [
    "####  Northern Hemisphere - Wind Speed (mph) vs. Latitude Linear Regression"
   ]
  },
  {
   "cell_type": "code",
   "execution_count": 23,
   "metadata": {},
   "outputs": [
    {
     "name": "stdout",
     "output_type": "stream",
     "text": [
      "The r-squared is:0.009942497146474917\n"
     ]
    },
    {
     "data": {
      "image/png": "[encoded data removed]",
      "text/plain": [
       "<Figure size 432x288 with 1 Axes>"
      ]
     },
     "metadata": {
      "needs_background": "light"
     },
     "output_type": "display_data"
    }
   ],
   "source": [
    "x_values = Northern_Ham[\"Lat\"]\n",
    "y_values = Northern_Ham[\"Wind Speed\"]\n",
    "correlation = st.pearsonr(x_values,y_values)\n",
    "(slope, intercept, rvalue, pvalue, stderr) = linregress(x_values,y_values)\n",
    "regress_values = x_values * slope + intercept\n",
    "line_eq = \"y = \" + str(round(slope,2)) + \"x + \" + str(round(intercept,2))\n",
    "plt.plot(x_values,regress_values,\"r-\")\n",
    "print(f\"The r-squared is:{rvalue**2}\")\n",
    "plt.scatter(x_values,y_values,marker=\"o\", facecolors=\"tab:blue\")\n",
    "plt.annotate(line_eq,(20,10),fontsize=15,color=\"red\")\n",
    "plt.title(\"Northern_Hamisphere - City Latitude vs. Wind Speed(04/01/20)\")\n",
    "plt.xlabel(\"Latitude\")\n",
    "plt.ylabel(\"Wind Speed(mph)\")\n",
    "plt.show()"
   ]
  },
  {
   "cell_type": "markdown",
   "metadata": {},
   "source": [
    "####  Southern Hemisphere - Wind Speed (mph) vs. Latitude Linear Regression"
   ]
  },
  {
   "cell_type": "code",
   "execution_count": 24,
   "metadata": {},
   "outputs": [
    {
     "name": "stdout",
     "output_type": "stream",
     "text": [
      "The r-squared is:0.0013493731507346976\n"
     ]
    },
    {
     "data": {
      "image/png": "[encoded data removed]",
      "text/plain": [
       "<Figure size 432x288 with 1 Axes>"
      ]
     },
     "metadata": {
      "needs_background": "light"
     },
     "output_type": "display_data"
    }
   ],
   "source": [
    "x_values = Southern_Ham[\"Lat\"]\n",
    "y_values = Southern_Ham[\"Wind Speed\"]\n",
    "correlation = st.pearsonr(x_values,y_values)\n",
    "(slope, intercept, rvalue, pvalue, stderr) = linregress(x_values,y_values)\n",
    "regress_values = x_values * slope + intercept\n",
    "line_eq = \"y = \" + str(round(slope,2)) + \"x + \" + str(round(intercept,2))\n",
    "plt.plot(x_values,regress_values,\"r-\")\n",
    "print(f\"The r-squared is:{rvalue**2}\")\n",
    "plt.scatter(x_values,y_values,marker=\"o\", facecolors=\"tab:blue\")\n",
    "plt.annotate(line_eq,(-50,7),fontsize=15,color=\"red\")\n",
    "plt.title(\"Southern_Hamisphere - City Latitude vs. Wind Speed(04/01/20)\")\n",
    "plt.xlabel(\"Latitude\")\n",
    "plt.ylabel(\"Wind Speed(mph)\")\n",
    "plt.show()"
   ]
  },
  {
   "cell_type": "markdown",
   "metadata": {},
   "source": [
    "Wind Speed and latitude don't seem to be correlated at all in both the northern and southern hemispheres.Both show very low r-squared value."
   ]
  },
  {
   "cell_type": "code",
   "execution_count": null,
   "metadata": {},
   "outputs": [],
   "source": []
  }
 ],
 "metadata": {
  "anaconda-cloud": {},
  "kernel_info": {
   "name": "python3"
  },
  "kernelspec": {
   "display_name": "Python 3",
   "language": "python",
   "name": "python3"
  },
  "language_info": {
   "codemirror_mode": {
    "name": "ipython",
    "version": 3
   },
   "file_extension": ".py",
   "mimetype": "text/x-python",
   "name": "python",
   "nbconvert_exporter": "python",
   "pygments_lexer": "ipython3",
   "version": "3.7.3"
  },
  "latex_envs": {
   "LaTeX_envs_menu_present": true,
   "autoclose": false,
   "autocomplete": true,
   "bibliofile": "biblio.bib",
   "cite_by": "apalike",
   "current_citInitial": 1,
   "eqLabelWithNumbers": true,
   "eqNumInitial": 1,
   "hotkeys": {
    "equation": "Ctrl-E",
    "itemize": "Ctrl-I"
   },
   "labels_anchors": false,
   "latex_user_defs": false,
   "report_style_numbering": false,
   "user_envs_cfg": false
  },
  "nteract": {
   "version": "0.12.3"
  }
 },
 "nbformat": 4,
 "nbformat_minor": 2
}
